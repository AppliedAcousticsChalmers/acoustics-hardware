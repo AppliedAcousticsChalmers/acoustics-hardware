{
 "cells": [
  {
   "cell_type": "markdown",
   "metadata": {},
   "source": [
    "# Measurement of an Impulse Response with a Microphone"
   ]
  },
  {
   "cell_type": "markdown",
   "metadata": {},
   "source": [
    "This notebook sketches how to measure impulse responses with a single microphone.\n",
    "\n",
    "* Two sweeps are played, one for the loudspeaker and one for the analog feedback. \n",
    "* Two channels are recorded, the microphone and the analog feedback."
   ]
  },
  {
   "cell_type": "code",
   "execution_count": null,
   "metadata": {},
   "outputs": [],
   "source": [
    "# Automatically reload the acoustics_hardware package if anything is changed\n",
    "%load_ext autoreload\n",
    "%autoreload 2\n",
    "\n",
    "# Load requirements\n",
    "import sys\n",
    "\n",
    "import matplotlib.pyplot as plt\n",
    "import numpy as np\n",
    "import scipy.io as sio\n",
    "from IPython import display\n",
    "from numpy.fft import rfft as fft, rfftfreq as fftfreq\n",
    "from pathlib import Path\n",
    "from time import sleep\n",
    "\n",
    "import acoustics_hardware.serial"
   ]
  },
  {
   "cell_type": "markdown",
   "metadata": {},
   "source": [
    "## Set up audio hardware"
   ]
  },
  {
   "cell_type": "code",
   "execution_count": null,
   "metadata": {},
   "outputs": [],
   "source": [
    "print(acoustics_hardware.devices.AudioDevice.get_devices())\n",
    "\n",
    "device_name = 'Orion 32'\n",
    "fs = 48000\n",
    "\n",
    "try:\n",
    "    device = acoustics_hardware.devices.AudioDevice(\n",
    "        name=device_name,\n",
    "        fs=fs,\n",
    "    )\n",
    "except ValueError as e:\n",
    "    sys.exit(e)\n",
    "\n",
    "# 2 inputs (0..31) for 'Orion 32'\n",
    "device.add_input(0)\n",
    "device.add_input(1)\n",
    "\n",
    "# 2 outputs (0..31) for 'Orion 32'\n",
    "device.add_output(0)\n",
    "device.add_output(1)\n",
    "\n",
    "amplitude_db = -20\n",
    "sweep_duration = 3 # sec\n",
    "\n",
    "amplitude_lin = 10**(amplitude_db/20)\n",
    "\n",
    "# Signal is automatically played through the first 2 channels\n",
    "generator = acoustics_hardware.generators.SweepGenerator(device=device,\n",
    "    start_frequency=50, stop_frequency=20e3, duration=sweep_duration, repetitions=1, amplitude=amplitude_lin)"
   ]
  },
  {
   "cell_type": "markdown",
   "metadata": {},
   "source": [
    "## Prepare functions for plotting"
   ]
  },
  {
   "cell_type": "code",
   "execution_count": null,
   "metadata": {},
   "outputs": [],
   "source": [
    "# noinspection PyShadowingNames\n",
    "def plot_data(data, fs):\n",
    "    n_ch, n_sample = data.shape\n",
    "    t_data = np.linspace(0, n_sample / fs, n_sample)\n",
    "    freq_data = 20*np.log10(abs(fft(data)))\n",
    "    f = fftfreq(n_sample, 1 / fs)\n",
    "    \n",
    "    fig, axes = plt.subplots(n_ch, 2, sharex='col', figsize=(12, 3 * n_ch))\n",
    "    for ch in np.arange(n_ch): # individual channels\n",
    "        # Time domain\n",
    "        ax = axes[ch, 0]\n",
    "        ax.plot(t_data, data[ch, :])\n",
    "        ax.set_xlim(0, n_sample / fs)\n",
    "        ax.legend([f'Channel {ch}'], loc='upper right')\n",
    "        ax.grid()\n",
    "        if ch < n_ch - 1:\n",
    "            ax.set_xlabel('')\n",
    "        else:\n",
    "            ax.set_xlabel('t (s)')\n",
    "\n",
    "        # Frequency domain\n",
    "        y_max = np.ceil(freq_data[ch, :].max() / 5) * 5\n",
    "        ax = axes[ch, 1]\n",
    "        ax.semilogx(f, freq_data[ch, :])\n",
    "        ax.set_xlim(30, fs/2)\n",
    "        ax.set_ylim(y_max - 80, y_max)\n",
    "        ax.legend([f'Channel {ch}'], loc='upper right')\n",
    "        ax.grid()\n",
    "        if ch < n_ch - 1:\n",
    "            ax.set_xlabel('')\n",
    "        else:\n",
    "            ax.set_xlabel('f (Hz)')"
   ]
  },
  {
   "cell_type": "markdown",
   "metadata": {},
   "source": [
    "## Perform measurement"
   ]
  },
  {
   "cell_type": "code",
   "execution_count": null,
   "metadata": {},
   "outputs": [],
   "source": [
    "out_file_name = 'recorded_data.mat'\n",
    "\n",
    "# Create output data path if it does not exist\n",
    "Path(out_file_name).parent.mkdir(parents=True, exist_ok=True)\n",
    "\n",
    "# Wait before starting the measurement\n",
    "sleep(1)\n",
    "\n",
    "device.reset()\n",
    "device.start(timed=sweep_duration + 1, blocking=True)\n",
    "data = device.get_input_data()\n",
    "\n",
    "# Store the data\n",
    "sio.savemat(\n",
    "    out_file_name,\n",
    "    {\n",
    "        'recorded_signal': np.transpose(data),\n",
    "        'fs': fs,\n",
    "    },\n",
    ")\n",
    "\n",
    "# Play audio\n",
    "display.display(\n",
    "    display.Markdown('### Channel 1'),\n",
    "    display.Audio(data[0,:], rate=fs),\n",
    "    display.Markdown('### Channel 2'),\n",
    "    display.Audio(data[1,:], rate=fs))\n",
    "\n",
    "# Plot data\n",
    "plot_data(data, fs) "
   ]
  },
  {
   "cell_type": "code",
   "execution_count": null,
   "metadata": {},
   "outputs": [],
   "source": []
  }
 ],
 "metadata": {
  "kernelspec": {
   "display_name": "Python 3",
   "language": "python",
   "name": "python3"
  },
  "language_info": {
   "codemirror_mode": {
    "name": "ipython",
    "version": 3
   },
   "file_extension": ".py",
   "mimetype": "text/x-python",
   "name": "python",
   "nbconvert_exporter": "python",
   "pygments_lexer": "ipython3",
   "version": "3.8.8"
  },
  "toc": {
   "base_numbering": 1,
   "nav_menu": {},
   "number_sections": true,
   "sideBar": true,
   "skip_h1_title": true,
   "title_cell": "Table of Contents",
   "title_sidebar": "Contents",
   "toc_cell": false,
   "toc_position": {},
   "toc_section_display": true,
   "toc_window_display": true
  },
  "varInspector": {
   "cols": {
    "lenName": 16,
    "lenType": 16,
    "lenVar": 40
   },
   "kernels_config": {
    "python": {
     "delete_cmd_postfix": "",
     "delete_cmd_prefix": "del ",
     "library": "var_list.py",
     "varRefreshCmd": "print(var_dic_list())"
    },
    "r": {
     "delete_cmd_postfix": ") ",
     "delete_cmd_prefix": "rm(",
     "library": "var_list.r",
     "varRefreshCmd": "cat(var_dic_list()) "
    }
   },
   "types_to_exclude": [
    "module",
    "function",
    "builtin_function_or_method",
    "instance",
    "_Feature"
   ],
   "window_display": false
  }
 },
 "nbformat": 4,
 "nbformat_minor": 2
}
