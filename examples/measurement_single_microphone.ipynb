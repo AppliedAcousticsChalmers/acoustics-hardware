{
 "cells": [
  {
   "cell_type": "markdown",
   "metadata": {},
   "source": [
    "# Measurement of an Impulse Response with a Microphone"
   ]
  },
  {
   "cell_type": "markdown",
   "metadata": {},
   "source": [
    "This notebook scetches how to measure impulse responses with a single mircophone. \n",
    "\n",
    "* Two sweeps are played, one for the loudspeaker and one for the analog feedback. \n",
    "* Two channels are recorded, the microphone and the analog feedback.\n",
    "\n",
    "Data are stored in a subfolder 'data', which needs to be present."
   ]
  },
  {
   "cell_type": "code",
   "execution_count": null,
   "metadata": {},
   "outputs": [],
   "source": [
    "import numpy as np\n",
    "import matplotlib.pyplot as plt\n",
    "from numpy.fft import rfft as fft, rfftfreq as fftfreq\n",
    "import soundfile as sf\n",
    "import time\n",
    "import scipy.io as sio\n",
    "\n",
    "from IPython import display\n",
    "\n",
    "import acoustics_hardware"
   ]
  },
  {
   "cell_type": "markdown",
   "metadata": {},
   "source": [
    "# Set up hardware"
   ]
  },
  {
   "cell_type": "code",
   "execution_count": null,
   "metadata": {},
   "outputs": [],
   "source": [
    "print(acoustics_hardware.devices.AudioDevice.get_devices())\n",
    "\n",
    "name = 'Orion 32'\n",
    "fs = 48000\n",
    "device = acoustics_hardware.devices.AudioDevice(name=name, fs=fs)\n",
    "\n",
    "# 2 inputs (0..7)\n",
    "device.add_input(0)\n",
    "device.add_input(1)\n",
    "\n",
    "# 2 outputs (0..7)\n",
    "device.add_output(0)\n",
    "device.add_output(1)\n",
    "\n",
    "amplitude_db = -20\n",
    "sweep_duration = 3 # sec\n",
    "\n",
    "amplitude_lin = 10**(amplitude_db/20)\n",
    "\n",
    "# Signal is automatically played through the first 2 channels\n",
    "generator = acoustics_hardware.generators.SweepGenerator(device=device,\n",
    "    start_frequency=50, stop_frequency=20e3, duration=sweep_duration, repetitions=1, amplitude=amplitude_lin)"
   ]
  },
  {
   "cell_type": "markdown",
   "metadata": {},
   "source": [
    "# Define functions for plotting (for testing only)"
   ]
  },
  {
   "cell_type": "code",
   "execution_count": null,
   "metadata": {},
   "outputs": [],
   "source": [
    "# Define the functions for plotting\n",
    "def plot_data_t(data):\n",
    "    #data.shape\n",
    "    channels = np.arange(data.shape[0])\n",
    "\n",
    "    for channel in channels:\n",
    "        #plt.plot(data[2,:], 'b', data[0,:],'r',data[1,:], 'g')\n",
    "        plt.plot(data[channel,:]) \n",
    "        plt.xlabel(\"t (taps)\")\n",
    "        plt.show()\n",
    "        \n",
    "def plot_data_f(data, fs):\n",
    "    freq_data = fft(data)\n",
    "    f = fftfreq(data.shape[1], 1/fs)\n",
    "    \n",
    "    channels = np.arange(data.shape[0])\n",
    "    \n",
    "    for channel in channels:\n",
    "        plt.semilogx(f, 20*np.log10(abs(freq_data[channel-1,:])).T)\n",
    "        plt.xlim(30, fs/2)\n",
    "        plt.xlabel(\"f (Hz)\")\n",
    "        plt.show() "
   ]
  },
  {
   "cell_type": "markdown",
   "metadata": {},
   "source": [
    "# Perform measurement"
   ]
  },
  {
   "cell_type": "code",
   "execution_count": null,
   "metadata": {},
   "outputs": [],
   "source": [
    "file_name = 'recorded_data.mat'\n",
    "\n",
    "device.start()\n",
    "\n",
    "# Launch the measurement\n",
    "generator.reset()\n",
    "device.input_active.set()\n",
    "time.sleep(.1)\n",
    "device.output_active.set()\n",
    "\n",
    "# Wait for the measurement to happen\n",
    "time.sleep(sweep_duration + 3)\n",
    "\n",
    "# Stop the recording\n",
    "device.stop()\n",
    "\n",
    "# Retreive the recorded data\n",
    "data = device.get_input_data()\n",
    "\n",
    "# Store the data\n",
    "sio.savemat(file_name, {'recorded_signal': np.transpose(data), 'fs': fs})\n",
    "\n",
    "# Play audio\n",
    "display.display(\n",
    "    display.Markdown('### Channel 1'),\n",
    "    display.Audio(data[0,:], rate=fs),\n",
    "    display.Markdown('### Channel 2'),\n",
    "    display.Audio(data[1,:], rate=fs))\n",
    "\n",
    "plot_data_t(data)\n",
    "plot_data_f(data, fs) "
   ]
  }
 ],
 "metadata": {
  "kernelspec": {
   "display_name": "Python 3",
   "language": "python",
   "name": "python3"
  },
  "language_info": {
   "codemirror_mode": {
    "name": "ipython",
    "version": 3
   },
   "file_extension": ".py",
   "mimetype": "text/x-python",
   "name": "python",
   "nbconvert_exporter": "python",
   "pygments_lexer": "ipython3",
   "version": "3.8.5"
  }
 },
 "nbformat": 4,
 "nbformat_minor": 2
}
