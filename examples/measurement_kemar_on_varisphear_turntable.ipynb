{
 "cells": [
  {
   "cell_type": "markdown",
   "metadata": {},
   "source": [
    "# Measurement of Loudspeaker to KEMAR on VariSphere Turntable"
   ]
  },
  {
   "cell_type": "markdown",
   "metadata": {},
   "source": [
    "This notebook sketches how to measure binaural impulse responses with a KEMAR manikin. \n",
    "\n",
    "* Two sweeps are played, one for the loudspeaker and one for the analog feedback. \n",
    "* Three channels are recorded, two ears and the analog feedback.\n",
    "* After each measurement, the turntable rotates by 1 deg."
   ]
  },
  {
   "cell_type": "code",
   "execution_count": null,
   "metadata": {},
   "outputs": [],
   "source": [
    "# Automatically reload the acoustics_hardware package if anything is changed\n",
    "%load_ext autoreload\n",
    "%autoreload 2\n",
    "\n",
    "# Load requirements\n",
    "import sys\n",
    "\n",
    "import matplotlib.pyplot as plt\n",
    "import numpy as np\n",
    "import scipy.io as sio\n",
    "from IPython import display\n",
    "from numpy.fft import rfft as fft, rfftfreq as fftfreq\n",
    "from pathlib import Path\n",
    "from time import sleep\n",
    "\n",
    "import acoustics_hardware.serial"
   ]
  },
  {
   "cell_type": "markdown",
   "metadata": {},
   "source": [
    "## Set up audio hardware"
   ]
  },
  {
   "cell_type": "code",
   "execution_count": null,
   "metadata": {},
   "outputs": [],
   "source": [
    "print(acoustics_hardware.devices.AudioDevice.get_devices())\n",
    "\n",
    "device_name = 'Orion 32'\n",
    "fs = 48000\n",
    "\n",
    "try:\n",
    "    device = acoustics_hardware.devices.AudioDevice(\n",
    "        name=device_name,\n",
    "        fs=fs,\n",
    "    )\n",
    "except ValueError as e:\n",
    "    sys.exit(e)\n",
    "\n",
    "# 3 inputs (0..31) for 'Orion 32'\n",
    "device.add_input(0)\n",
    "device.add_input(1)\n",
    "device.add_input(2)\n",
    "\n",
    "# 2 inputs (0..31) for 'Orion 32'\n",
    "device.add_output(0)\n",
    "device.add_output(1)\n",
    "\n",
    "amplitude_db = -20\n",
    "sweep_duration = 3 # sec\n",
    "\n",
    "amplitude_lin = 10**(amplitude_db/20)\n",
    "\n",
    "# Signal is automatically played through the first 2 channels\n",
    "generator = acoustics_hardware.generators.SweepGenerator(device=device,\n",
    "    start_frequency=50, stop_frequency=20e3, duration=sweep_duration, repetitions=1, amplitude=amplitude_lin)"
   ]
  },
  {
   "cell_type": "markdown",
   "metadata": {},
   "source": [
    "## Prepare functions for plotting"
   ]
  },
  {
   "cell_type": "code",
   "execution_count": null,
   "metadata": {},
   "outputs": [],
   "source": [
    "# noinspection PyShadowingNames\n",
    "def plot_data(data, fs):\n",
    "    n_ch, n_sample = data.shape\n",
    "    t_data = np.linspace(0, n_sample / fs, n_sample)\n",
    "    freq_data = 20*np.log10(abs(fft(data)))\n",
    "    f = fftfreq(n_sample, 1 / fs)\n",
    "    \n",
    "    fig, axes = plt.subplots(n_ch, 2, sharex='col', figsize=(12, 3 * n_ch))\n",
    "    for ch in np.arange(n_ch): # individual channels\n",
    "        # Time domain\n",
    "        ax = axes[ch, 0]\n",
    "        ax.plot(t_data, data[ch, :])\n",
    "        ax.set_xlim(0, n_sample / fs)\n",
    "        ax.legend([f'Channel {ch}'], loc='upper right')\n",
    "        ax.grid()\n",
    "        if ch < n_ch - 1:\n",
    "            ax.set_xlabel('')\n",
    "        else:\n",
    "            ax.set_xlabel('t (s)')\n",
    "\n",
    "        # Frequency domain\n",
    "        y_max = np.ceil(freq_data[ch, :].max() / 5) * 5\n",
    "        ax = axes[ch, 1]\n",
    "        ax.semilogx(f, freq_data[ch, :])\n",
    "        ax.set_xlim(30, fs/2)\n",
    "        ax.set_ylim(y_max - 80, y_max)\n",
    "        ax.legend([f'Channel {ch}'], loc='upper right')\n",
    "        ax.grid()\n",
    "        if ch < n_ch - 1:\n",
    "            ax.set_xlabel('')\n",
    "        else:\n",
    "            ax.set_xlabel('f (Hz)')"
   ]
  },
  {
   "cell_type": "markdown",
   "metadata": {},
   "source": [
    "## Test audio\n",
    "\n",
    "Execute this cell to test if the audio setup works."
   ]
  },
  {
   "cell_type": "code",
   "execution_count": null,
   "metadata": {},
   "outputs": [],
   "source": [
    "# execute this cell to test if the audio setup works\n",
    "\n",
    "file_name = 'file_test.mat'\n",
    "\n",
    "device.start(timed=sweep_duration + 1, blocking=True)\n",
    "device.reset()\n",
    "data = device.get_input_data()\n",
    "\n",
    "\n",
    "# Store the data\n",
    "sio.savemat(file_name, {'recorded_signal': np.transpose(data), 'fs': fs})\n",
    "\n",
    "# Show audio data preview\n",
    "for ch in range(data.shape[0]):\n",
    "    display.display(\n",
    "        display.Markdown(f\"<h3>Channel {ch}</h3>\"),\n",
    "        display.Audio(data[ch, :], rate=fs),\n",
    "    )\n",
    "\n",
    "# Plot data\n",
    "plot_data(data, fs)"
   ]
  },
  {
   "cell_type": "markdown",
   "metadata": {},
   "source": [
    "## Test VariSphere\n",
    "\n",
    "Initialize VariSphere once and then use the second cell to move the turntable as many times as you want."
   ]
  },
  {
   "cell_type": "code",
   "execution_count": null,
   "metadata": {},
   "outputs": [],
   "source": [
    "vari = acoustics_hardware.serial.VariSphere(az_port='4001', el_port=None, ip='192.168.127.120')"
   ]
  },
  {
   "cell_type": "code",
   "execution_count": null,
   "metadata": {},
   "outputs": [],
   "source": [
    "# Try different angles (in deg) here\n",
    "#vari.move(az=0)\n",
    "vari.move_blocking(az=0)"
   ]
  },
  {
   "cell_type": "markdown",
   "metadata": {},
   "source": [
    "## Perform the measurement series"
   ]
  },
  {
   "cell_type": "code",
   "execution_count": null,
   "metadata": {},
   "outputs": [],
   "source": [
    "# note that the folder \"data\" needs to exist\n",
    "out_file_name = \"data/kemar_azimuth_{:03d}_el_0.mat\"\n",
    "\n",
    "# Create output data path if it does not exist\n",
    "Path(out_file_name).parent.mkdir(parents=True, exist_ok=True)\n",
    "\n",
    "azis = np.arange(360)\n",
    "#azis = np.arange(180, 181)\n",
    "device.initialize()\n",
    "for azi in azis:\n",
    "    print(azi)\n",
    "    vari.move_blocking(az=azi)\n",
    "    \n",
    "    # wait for the boom vibrations to settle\n",
    "    sleep(1)\n",
    "    \n",
    "    #print(\"Taking a measurement.\")\n",
    "    \n",
    "    # start recording\n",
    "    device.start(timed=sweep_duration + 1, blocking=True)\n",
    "    device.reset()\n",
    "    data = device.get_input_data()\n",
    "    \n",
    "    # save the data\n",
    "    sio.savemat(out_file_name.format(azi), {'recorded_signal': np.array(data).transpose(), 'fs': fs})\n",
    "    \n",
    "    # plot the data for sanity\n",
    "    # plot_data_t(data)\n",
    "    # plot_data_f(data, fs)\n",
    "\n",
    "print('Measurement completed.')"
   ]
  },
  {
   "cell_type": "code",
   "execution_count": null,
   "metadata": {},
   "outputs": [],
   "source": []
  }
 ],
 "metadata": {
  "kernelspec": {
   "display_name": "Python 3",
   "language": "python",
   "name": "python3"
  },
  "language_info": {
   "codemirror_mode": {
    "name": "ipython",
    "version": 3
   },
   "file_extension": ".py",
   "mimetype": "text/x-python",
   "name": "python",
   "nbconvert_exporter": "python",
   "pygments_lexer": "ipython3",
   "version": "3.8.8"
  },
  "toc": {
   "base_numbering": 1,
   "nav_menu": {},
   "number_sections": true,
   "sideBar": true,
   "skip_h1_title": true,
   "title_cell": "Table of Contents",
   "title_sidebar": "Contents",
   "toc_cell": false,
   "toc_position": {},
   "toc_section_display": true,
   "toc_window_display": true
  },
  "varInspector": {
   "cols": {
    "lenName": 16,
    "lenType": 16,
    "lenVar": 40
   },
   "kernels_config": {
    "python": {
     "delete_cmd_postfix": "",
     "delete_cmd_prefix": "del ",
     "library": "var_list.py",
     "varRefreshCmd": "print(var_dic_list())"
    },
    "r": {
     "delete_cmd_postfix": ") ",
     "delete_cmd_prefix": "rm(",
     "library": "var_list.r",
     "varRefreshCmd": "cat(var_dic_list()) "
    }
   },
   "types_to_exclude": [
    "module",
    "function",
    "builtin_function_or_method",
    "instance",
    "_Feature"
   ],
   "window_display": false
  }
 },
 "nbformat": 4,
 "nbformat_minor": 2
}
