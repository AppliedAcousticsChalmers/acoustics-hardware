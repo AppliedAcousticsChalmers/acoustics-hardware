{
 "cells": [
  {
   "cell_type": "markdown",
   "metadata": {
    "pycharm": {
     "name": "#%% md\n"
    }
   },
   "source": [
    "# Measurement of Loudspeaker to Dummy Head on Turntable"
   ]
  },
  {
   "cell_type": "markdown",
   "metadata": {
    "pycharm": {
     "name": "#%% md\n"
    }
   },
   "source": [
    "This notebook sketches how to measure binaural impulse responses with a KEMAR manikin on the VariSphear turntable.\n",
    "\n",
    "* Two sweeps are played, one for the analog feedback and one to the\n",
    "loudspeaker.\n",
    "* Three channels are recorded, the analog feedback and the two dummy head ears.\n",
    "* After each measurement, the turntable rotates by 1 deg."
   ]
  },
  {
   "cell_type": "markdown",
   "metadata": {
    "pycharm": {
     "name": "#%% md\n"
    }
   },
   "source": [
    "## Load requirements"
   ]
  },
  {
   "cell_type": "code",
   "execution_count": null,
   "metadata": {
    "pycharm": {
     "name": "#%%\n"
    }
   },
   "outputs": [],
   "source": [
    "# Automatically reload the acoustics_hardware package if anything is changed\n",
    "%load_ext autoreload\n",
    "%autoreload 2\n",
    "# fmt: off\n",
    "\n",
    "import sys\n",
    "from datetime import datetime, timedelta\n",
    "from pathlib import Path\n",
    "from time import sleep\n",
    "\n",
    "import numpy as np\n",
    "import sounddevice as sd\n",
    "from IPython.display import Audio, display, Markdown\n",
    "from ipywidgets import Output\n",
    "from scipy.io import savemat\n",
    "from scipy.signal.waveforms import chirp\n",
    "\n",
    "from acoustics_hardware import utils\n",
    "from acoustics_hardware.processors import deconvolve\n",
    "from acoustics_hardware.serial import VariSphere\n",
    "\n",
    "# Prepare output widgets\n",
    "widget_preview_str = '<h3><center><font color=\"green\">{}</font></center></h3>'\n",
    "widget_preview_rec = Output()\n",
    "widget_preview_rec.layout.border = \"1px solid green\"\n",
    "widget_preview_ir = Output()\n",
    "widget_preview_ir.layout.border = \"3px solid green\""
   ]
  },
  {
   "cell_type": "markdown",
   "metadata": {
    "pycharm": {
     "name": "#%% md\n"
    }
   },
   "source": [
    "## Set up audio hardware\n",
    "\n",
    "Adjust your settings for the individual audio hardware!"
   ]
  },
  {
   "cell_type": "code",
   "execution_count": null,
   "metadata": {
    "pycharm": {
     "name": "#%%\n"
    }
   },
   "outputs": [],
   "source": [
    "# Reinitialize in case sounddevice was reconnected\n",
    "# noinspection PyProtectedMember\n",
    "sd._terminate()\n",
    "# noinspection PyProtectedMember\n",
    "sd._initialize()\n",
    "\n",
    "# Show list of available audio devices\n",
    "print(sd.query_devices())\n",
    "\n",
    "# fmt: off\n",
    "# Audio device configuration\n",
    "device_name = \"Orion 32\"               # e.g. on macOS\n",
    "# device_name = \"Orion32 ASIO Driver\"  # e.g. on Windows\n",
    "fs = 48000                    # in Hz\n",
    "device_output_desc = \"Type / name of the loudspeaker and amplifier\"\n",
    "device_output_ch = [1, 2]     # output channel mapping (IDs starting from 1)\n",
    "device_input_desc = \"G.R.A.S KEMAR (??? pinna); Antelope MP32\"\n",
    "device_input_ch = [1, 2, 3]   # input channel mapping (IDs starting from 1)\n",
    "# The audio device name and sampling frequency as well as input and output channels\n",
    "# should be adjusted according to the utilized measurement hardware. The first channel\n",
    "# in the input and output mapping thereby specify the loopback channel (the recorded\n",
    "# reference signal which will be used for the deconvolution of the other channels).\n",
    "# NOTE: It is currently not supported to not use a loopback channel, e.g. in case the\n",
    "#       measurement hardware does not allow it. This should be implemented in the future!\n",
    "\n",
    "# Sweep configuration\n",
    "meas_room = \"Name / description of the room\"\n",
    "meas_comment = \"Further description of the environment / configuration\"\n",
    "meas_iterations = 2               # measurement iterations per position that will be averaged\n",
    "sweep_hp, sweep_lp = 50, 20e3     # in Hz\n",
    "sweep_amplitude = -40             # in dB_FS\n",
    "sweep_win_in_periods = 1          # in periods at the start frequency\n",
    "sweep_win_out_periods = 6         # in periods at the end frequency\n",
    "sweep_duration = [0.2, 2.0, 0.8]  # in s, duration of [pre-silence, sweep, post-silence]\n",
    "# The frequency range and amplitude should be adjusted according to the utilized sound\n",
    "# source. The number of fade-in and fade-out oscillation periods can be adjusted in\n",
    "# order to not yield clicks at the start and end of the sweep (verify with the\n",
    "# spectrogram of the resulting loopback measurement). The sweep duration should be\n",
    "# adjusted according to the present environmental / room conditions (a longer sweep\n",
    "# will yield a better signal-to-noise ratio in the deconvolved impulse responses). The\n",
    "# specified post-silence time will also impose a limit on the length of the captured\n",
    "# microphone signals and should therefore allow the reverberation to fully decay in all\n",
    "# frequency bands.\n",
    "\n",
    "# Deconvolution configuration\n",
    "deconv_type = \"lin\"              # \"lin\" or \"cyc\"\n",
    "deconv_hp, deconv_lp = 10, 21e3  # in Hz\n",
    "deconv_inv_dyn = None            # in dB\n",
    "deconv_ir_len_s = 1.0            # in s\n",
    "deconv_win_in_len = 64           # in samples\n",
    "deconv_win_out_len = 64          # in samples\n",
    "deconv_ir_amp = 0                # in dB\n",
    "# The deconvolution type should be chosen based on keeping (\"cyc\") or cutting out (\"lin\")\n",
    "# non-harmonic distortion products from the resulting impulse responses. Either the\n",
    "# frequency range or the inversion dynamic range should be restricted in order to yield\n",
    "# sensible impulse responses. The length of the deconvolved impulse responses should be\n",
    "# adjusted based on the room conditions to preserve the reverberation in all frequency\n",
    "# bands. The resulting deconvolved impulse responses may be amplified.\n",
    "\n",
    "# fmt: on\n",
    "print(f'\\nCheck audio device \"{device_name}\" ... ', end=\"\")\n",
    "try:\n",
    "    sd.check_output_settings(\n",
    "        device=device_name,\n",
    "        channels=len(device_output_ch),  # as number\n",
    "        samplerate=fs,                   # in Hz\n",
    "    )\n",
    "    sd.check_input_settings(\n",
    "        device=device_name,\n",
    "        channels=len(device_input_ch),   # as number\n",
    "        samplerate=fs,                   # in Hz\n",
    "    )\n",
    "except (ValueError, sd.PortAudioError) as e:\n",
    "    sys.exit(e)\n",
    "print(\"done.\")\n",
    "\n",
    "# Compute IR length from given time in seconds\n",
    "deconv_ir_len = int(deconv_ir_len_s * fs)\n",
    "\n",
    "print(f\"\\nGenerate sweep ... \", end=\"\")\n",
    "data_out = chirp(\n",
    "    t=np.arange(np.ceil(sweep_duration[1] * fs)) / fs,  # in s\n",
    "    f0=sweep_hp,                                        # in Hz\n",
    "    t1=sweep_duration[1],                               # in s\n",
    "    f1=sweep_lp,                                        # in Hz\n",
    "    method=\"logarithmic\",\n",
    "    phi=90,  # in deg (to start with a sample at 0)\n",
    ")                                                       # as [samples,]\n",
    "# Apply amplitude scaling\n",
    "data_out *= 10 ** (sweep_amplitude / 20)  # as factor\n",
    "# Apply fade-in and fade-out window\n",
    "data_out = utils.fade_signal(\n",
    "    sig=data_out,\n",
    "    win_in_len=int(sweep_win_in_periods * fs / sweep_hp),\n",
    "    win_out_len=int(sweep_win_out_periods * fs / sweep_lp),\n",
    ")\n",
    "# Prepend and append zeroes\n",
    "data_out = np.pad(\n",
    "    array=data_out,\n",
    "    pad_width=(int(sweep_duration[0] * fs), int(sweep_duration[2] * fs)),\n",
    ")\n",
    "data_out_is_adjusted = False\n",
    "print(\"done.\")"
   ]
  },
  {
   "cell_type": "markdown",
   "metadata": {
    "pycharm": {
     "name": "#%% md\n"
    }
   },
   "source": [
    "## Test audio hardware\n",
    "\n",
    "Initialize the audio hardware and estimate the inherent system latency."
   ]
  },
  {
   "cell_type": "code",
   "execution_count": null,
   "metadata": {
    "pycharm": {
     "name": "#%%\n"
    }
   },
   "outputs": [],
   "source": [
    "%matplotlib inline\n",
    "\n",
    "if data_out_is_adjusted:\n",
    "    # noinspection PyUnresolvedReferences,PyUnboundLocalVariable\n",
    "    display(Markdown(widget_preview_str.format(\n",
    "        f\"Using detected latency of {data_rec_latency} samples\")))\n",
    "else:\n",
    "    # Determine latency if it has not been done yet\n",
    "    print(f\"\\nRecord sweep ... \", end=\"\")\n",
    "    data_rec = sd.playrec(\n",
    "        data=data_out,                    # as [samples,]\n",
    "        samplerate=fs,                    # in Hz\n",
    "        device=device_name,\n",
    "        input_mapping=device_input_ch,    # channel numbers start from 1\n",
    "        output_mapping=device_output_ch,  # channel numbers start from 1\n",
    "        blocking=True,\n",
    "    ).T                                   # as [channels, samples]\n",
    "    print(\"done.\")\n",
    "\n",
    "    # Determine latency by initial zeroes in the recording\n",
    "    # (this value will be used in the measurement section later)\n",
    "    data_rec_latency = int(\n",
    "        np.min(np.argmax(np.abs(data_rec) > 0, axis=-1))\n",
    "    )  # in samples\n",
    "    display(Markdown(widget_preview_str.format(\n",
    "        f\"Adjust for detected latency of {data_rec_latency} samples\")))\n",
    "\n",
    "    # Append zeroes to excitation signal based on determined latency\n",
    "    data_out = np.pad(data_out, pad_width=(0, data_rec_latency))\n",
    "    data_out_is_adjusted = True\n",
    "    sleep(1)  # in s\n",
    "\n",
    "print(f\"\\nRecord sweep ... \", end=\"\")\n",
    "data_rec = sd.playrec(\n",
    "    data=data_out,                    # as [samples,]\n",
    "    samplerate=fs,                    # in Hz\n",
    "    device=device_name,\n",
    "    input_mapping=device_input_ch,    # channel numbers start from 1\n",
    "    output_mapping=device_output_ch,  # channel numbers start from 1\n",
    "    blocking=True,\n",
    ").T                                   # as [channels, samples]\n",
    "print(\"done.\")\n",
    "\n",
    "# Cut initial zeroes based on determined latency\n",
    "data_rec = data_rec[:, data_rec_latency:]  # in samples\n",
    "\n",
    "# Print recorded peak and individual RMS levels\n",
    "print(utils.generate_levels_string(data_rec))\n",
    "\n",
    "display(Markdown(\"<h2><center>Excitation signal</center></h2>\"))\n",
    "utils.plot_data(data=data_out, fs=fs, ch_labels=device_input_ch[0])\n",
    "\n",
    "display(Markdown(\"<h2><center>Recorded signals</center></h2>\"))\n",
    "utils.plot_data(data=data_rec, fs=fs, ch_labels=device_input_ch)\n",
    "for ch in range(data_rec.shape[0]):\n",
    "    display(\n",
    "        Markdown(f\"<h3>Channel in_{device_input_ch[ch]}</h3>\"),\n",
    "        Audio(data_rec[ch, :], rate=fs),\n",
    "    )\n",
    "\n",
    "data_ir = deconvolve(\n",
    "    exc_sig=data_rec[:1],            # first channel as loopback\n",
    "    rec_sig=data_rec[1:],\n",
    "    fs=fs,                           # in Hz\n",
    "    f_low=deconv_hp,                 # in Hz\n",
    "    f_high=deconv_lp,                # in Hz\n",
    "    res_len=deconv_ir_len / fs,      # in s\n",
    "    deconv_type=deconv_type,\n",
    "    inv_dyn_db=deconv_inv_dyn,       # in dB\n",
    "    win_in_len=deconv_win_in_len,    # in samples\n",
    "    win_out_len=deconv_win_out_len,  # in samples\n",
    ")                                    # as [channels, samples]\n",
    "if not data_ir.shape[0]:\n",
    "    sys.exit(\"No deconvolved data available (only loopback channel recorded).\")\n",
    "\n",
    "display(Markdown(\"<h2><center>Deconvolved Impulse Responses</center></h2>\"))\n",
    "utils.plot_data(data=data_ir, fs=fs, ch_labels=device_input_ch[1:])\n",
    "if data_ir.ndim > 1 and data_ir.shape[0] > 1:\n",
    "    utils.plot_data(data=data_ir, fs=fs,\n",
    "                    ch_labels=device_input_ch[1:], is_stacked=True)"
   ]
  },
  {
   "cell_type": "markdown",
   "metadata": {
    "pycharm": {
     "name": "#%% md\n"
    }
   },
   "source": [
    "## Setup and test turntable\n",
    "\n",
    "Initialize the VariSphear and move the turntable to an arbitrary position."
   ]
  },
  {
   "cell_type": "code",
   "execution_count": null,
   "metadata": {
    "pycharm": {
     "name": "#%%\n"
    }
   },
   "outputs": [],
   "source": [
    "# VariSphear configuration\n",
    "vari_ip = \"192.168.127.120\"  # default value\n",
    "# For a 1:1 Ethernet connection, set your local IPv4 to an adjacent address\n",
    "# e.g. \"192.168.127.1\" and your subnet mask to \"255.255.255.0\"\n",
    "\n",
    "print(f\"\\nConnect to VariSphear at {vari_ip} ... \", end=\"\")\n",
    "vari = VariSphere(\n",
    "    az_port=\"4001\",  # default value\n",
    "    el_port=None,    # None or False required if not connected\n",
    "    ip=vari_ip,\n",
    ")\n",
    "try:\n",
    "    vari.az.check_pc_mc_communication()\n",
    "except Exception as e:\n",
    "    sys.exit(e)\n",
    "print(\"done.\")\n",
    "\n",
    "# Try different angles (in deg) here\n",
    "az = 0  # in deg\n",
    "print(f\"\\nMove VariSphear to {az=:.1f}° ... \", end=\"\")\n",
    "vari.move_blocking(az=az)\n",
    "print(\"done.\")"
   ]
  },
  {
   "cell_type": "markdown",
   "source": [
    "## Prepare measurement grid\n",
    "\n",
    "Adjust your settings to the desired grid!"
   ],
   "metadata": {
    "collapsed": false,
    "pycharm": {
     "name": "#%% md\n"
    }
   },
   "outputs": [
    {
     "ename": "SyntaxError",
     "evalue": "invalid syntax (1474466709.py, line 3)",
     "output_type": "error",
     "traceback": [
      "\u001B[0;36m  Input \u001B[0;32mIn [1]\u001B[0;36m\u001B[0m\n\u001B[0;31m    Adjust your settings to the desired grid!\u001B[0m\n\u001B[0m           ^\u001B[0m\n\u001B[0;31mSyntaxError\u001B[0m\u001B[0;31m:\u001B[0m invalid syntax\n"
     ]
    }
   ],
   "execution_count": 1
  },
  {
   "cell_type": "code",
   "execution_count": null,
   "outputs": [],
   "source": [
    "%matplotlib widget\n",
    "\n",
    "# Generate azimuth coordinates\n",
    "grid_num = 360\n",
    "grid_azims = np.linspace(\n",
    "    start=0, stop=360, num=grid_num, endpoint=False\n",
    ")  # in deg\n",
    "\n",
    "# Plot grid\n",
    "utils.plot_grid(coords_az_el_r_rad=np.row_stack((np.deg2rad(grid_azims),\n",
    "                                                 np.zeros_like(grid_azims),\n",
    "                                                 np.ones_like(grid_azims))))"
   ],
   "metadata": {
    "collapsed": false,
    "pycharm": {
     "name": "#%%\n"
    }
   }
  },
  {
   "cell_type": "markdown",
   "metadata": {
    "pycharm": {
     "name": "#%% md\n"
    }
   },
   "source": [
    "## Perform measurement series\n",
    "\n",
    "Adjust your settings to the individual measurement conditions!"
   ]
  },
  {
   "cell_type": "code",
   "execution_count": null,
   "metadata": {
    "scrolled": false,
    "pycharm": {
     "name": "#%%\n"
    }
   },
   "outputs": [],
   "source": [
    "%matplotlib inline\n",
    "\n",
    "# Measurement configuration\n",
    "out_file_name = \"data/KEMAR_pos_{:04d}_az_{:03.0f}.mat\"\n",
    "meas_delay_duration = 1.0  # in s, duration of initial delay before starting to measure\n",
    "meas_show_preview = False  # if preview of recorded signals and impulse responses is shown\n",
    "\n",
    "# Enter manually or add later, e.g. from an `Air CO2ntrol 5000` unit!\n",
    "air_temperature = None  # in degrees Celsius\n",
    "air_humidity = None  # in percent, relative humidity\n",
    "\n",
    "# Estimate based on the used measurement grid/parameters (okay to keep default)!\n",
    "vari_duration = [0.5, 1.0]  # in s, duration of [move, post-halt-time]\n",
    "post_duration = [2.0, 1.0]  # in s, duration of post-processing [per iteration, per position]\n",
    "\n",
    "# Create output data path if it does not exist\n",
    "Path(out_file_name).parent.mkdir(parents=True, exist_ok=True)\n",
    "\n",
    "# Check that the recording latency has been determined\n",
    "try:\n",
    "    data_rec_latency\n",
    "except NameError:\n",
    "    sys.exit(\n",
    "        'Recording latency is undefined. Execute the \"Test audio hardware\" section to determine it!'\n",
    "    )\n",
    "\n",
    "# Print time estimation\n",
    "total_iter = len(grid_azims) * meas_iterations\n",
    "total_meas = meas_delay_duration + np.ceil(total_iter * (\n",
    "    np.sum(vari_duration)\n",
    "    + (data_out.shape[0] / fs)\n",
    "    + (post_duration[0] * meas_show_preview)\n",
    "    + (post_duration[1] * meas_show_preview / meas_iterations)\n",
    "))\n",
    "display(Markdown(\"<h2><center>Estimated measurement duration is {}</center></h2>\".format(\n",
    "    utils.generate_time_estimation_string(timedelta(seconds=total_meas)))))\n",
    "time_start = datetime.now()\n",
    "\n",
    "if meas_show_preview:\n",
    "    display(widget_preview_rec)\n",
    "    widget_preview_rec.clear_output()\n",
    "    display(widget_preview_ir)\n",
    "    widget_preview_ir.clear_output()\n",
    "\n",
    "# Wait before starting the measurement\n",
    "sleep(meas_delay_duration)  # in s\n",
    "\n",
    "try:\n",
    "    for grid_id, az in enumerate(grid_azims):\n",
    "        print(f\"\\nMove VariSphear to {az=:.1f}° ... \", end=\"\")\n",
    "        vari.move_blocking(az=az)\n",
    "        print(\"done.\")\n",
    "\n",
    "        # Wait for vibrations to settle\n",
    "        sleep(vari_duration[1])  # in s\n",
    "\n",
    "        # Prepare data arrays\n",
    "        data_rec = np.zeros(\n",
    "            (\n",
    "                meas_iterations,\n",
    "                len(device_input_ch),\n",
    "                data_out.shape[-1] - data_rec_latency,\n",
    "            )\n",
    "        )\n",
    "        data_ir = np.zeros((meas_iterations, len(\n",
    "            device_input_ch) - 1, deconv_ir_len))\n",
    "        data_time = []\n",
    "\n",
    "        for i in range(meas_iterations):\n",
    "            pos_str = f\"{az=:.1f}° [{meas_iterations * grid_id + i + 1}/{total_iter}]\"\n",
    "\n",
    "            # Remember measurement time (similar, but not identical to `.isoformat()`)\n",
    "            data_time.append(datetime.now().strftime(\"%Y-%m-%dT%H%M%S\"))\n",
    "\n",
    "            while True:\n",
    "                try:\n",
    "                    print(f\"Record sweep for {pos_str} ... \", end=\"\")\n",
    "                    with utils.timeout(4 * data_out.shape[0] / fs):\n",
    "                        rec = sd.playrec(                     # as [iterations, channels, samples]\n",
    "                            data=data_out,                    # as [samples,]\n",
    "                            samplerate=fs,                    # in Hz\n",
    "                            device=device_name,\n",
    "                            input_mapping=device_input_ch,    # channel numbers start from 1\n",
    "                            output_mapping=device_output_ch,  # channel numbers start from 1\n",
    "                            blocking=True,\n",
    "                        ).T                                   # as [channels, samples]\n",
    "                    print(\"done.\")\n",
    "                    continue\n",
    "                except TimeoutError as e:\n",
    "                    print(f\"{e} ... will try again.\")\n",
    "\n",
    "            # Cut initial zeroes based on determined latency\n",
    "            data_rec[i, :] = rec[:, data_rec_latency:]  # in samples\n",
    "\n",
    "            # Print recorded peak and individual RMS levels\n",
    "            lvl_str = utils.generate_levels_string(data_rec[i])\n",
    "            print(lvl_str, flush=True)\n",
    "\n",
    "            if not np.count_nonzero(data_rec[i, :1]):\n",
    "                print('Loopback signal is all zeros (deconvolution aborted).',\n",
    "                      file=sys.stderr, flush=True)\n",
    "                continue\n",
    "            if not np.count_nonzero(data_rec[i, 1:]):\n",
    "                print('Microphone signal is all zeros (deconvolution aborted).',\n",
    "                      file=sys.stderr, flush=True)\n",
    "                continue\n",
    "\n",
    "            data_ir[i] = deconvolve(             # as [iterations, channels-1, samples]\n",
    "                exc_sig=data_rec[i, :1],         # first channel as loopback\n",
    "                rec_sig=data_rec[i, 1:],\n",
    "                fs=fs,                           # in Hz\n",
    "                f_low=deconv_hp,                 # in Hz\n",
    "                f_high=deconv_lp,                # in Hz\n",
    "                res_len=deconv_ir_len / fs,      # in s\n",
    "                deconv_type=deconv_type,\n",
    "                inv_dyn_db=deconv_inv_dyn,       # in dB\n",
    "                win_in_len=deconv_win_in_len,    # in samples\n",
    "                win_out_len=deconv_win_out_len,  # in samples\n",
    "            )                                    # as [channels, samples]\n",
    "\n",
    "            if meas_show_preview:\n",
    "                # Plot data preview (updated after each measurement)\n",
    "                with widget_preview_rec:\n",
    "                    widget_preview_rec.clear_output(wait=True)\n",
    "                    utils.plot_data(data=data_rec[i], fs=fs,\n",
    "                                    ch_labels=device_input_ch)\n",
    "                    display(Markdown(f\"<h4><center>{lvl_str}</center></h4>\"))\n",
    "                    display(Markdown(widget_preview_str.format(\n",
    "                        f\"Preview individual signals for {pos_str}\")))\n",
    "                    # plot_data(data=data_ir[i], fs=fs,\n",
    "                    #           ch_labels=device_input_ch[1:])\n",
    "                    # display(Markdown(widget_preview_str.format(\n",
    "                    #     f\"Preview individual IRs for {pos_str}\")))\n",
    "\n",
    "        # Average deconvolved IRs\n",
    "        data_ir = np.mean(data_ir, axis=0)  # as [channels-1, samples]\n",
    "\n",
    "        # Apply desired amplification of impulse responses\n",
    "        data_ir *= 10 ** (deconv_ir_amp / 20)\n",
    "\n",
    "        if meas_show_preview:\n",
    "            # Plot averaged IRs preview (updated after each number of iterations)\n",
    "            with widget_preview_ir:\n",
    "                widget_preview_ir.clear_output(wait=True)\n",
    "                try:\n",
    "                    utils.plot_data(\n",
    "                        data=data_ir,\n",
    "                        fs=fs,\n",
    "                        ch_labels=device_input_ch[1:],\n",
    "                        is_stacked=True,\n",
    "                    )\n",
    "                    # noinspection PyUnboundLocalVariable\n",
    "                    display(Markdown(widget_preview_str.format(\n",
    "                        f\"Preview averaged IRs for {pos_str}\")))\n",
    "                except SystemExit as e:\n",
    "                    display(Markdown(widget_preview_str.format(e)))\n",
    "\n",
    "        # Store data in smaller data format (single precision or integer) to lower storage space\n",
    "        file_name = out_file_name.format(grid_id, az)\n",
    "        print(f'Save data to \"{file_name}\" ... ', end=\"\")\n",
    "        savemat(\n",
    "            file_name,\n",
    "            {  # fmt: off\n",
    "                \"signal_struct\": \"[samples, channels, iterations]\",\n",
    "                \"signal\": data_rec.T.astype(np.float32),         # as [samples, channels, iterations]\n",
    "                \"ir\": data_ir.T.astype(np.float32),              # as [samples, channels-1]\n",
    "                \"fs\": np.float32(fs),                            # in Hz\n",
    "                \"air_temperature\": np.float32(air_temperature),  # in degrees Celsius\n",
    "                \"air_humidity\": np.float32(air_humidity),        # in percent\n",
    "                \"ch_input\": np.int16(device_input_ch),           # as list\n",
    "                \"ch_output\": np.int16(device_output_ch),         # as list\n",
    "                \"dev_input\": device_input_desc,\n",
    "                \"dev_output\": device_output_desc,\n",
    "                \"dev_interface\": device_name,\n",
    "                \"az_deg\": np.float32(az),                        # in deg\n",
    "                \"meas_id\": np.int16(grid_id),                    # as measurement position index\n",
    "                \"meas_room\": meas_room,\n",
    "                \"meas_comment\": meas_comment,\n",
    "                \"meas_time\": data_time,\n",
    "                \"deconv_config\": {  # respective `AKdeconv()` configuration\n",
    "                    \"deconv_type\": deconv_type,\n",
    "                    \"lowPass\": np.float32(deconv_lp),            # in Hz\n",
    "                    \"highPass\": np.float32(deconv_hp),           # in Hz\n",
    "                    \"x_inv_dyn\": np.float32(deconv_inv_dyn),     # in dB\n",
    "                    \"h_trunc\": np.int16(deconv_ir_len),          # in samples\n",
    "                    \"h_fade_in\": np.int16(deconv_win_in_len),    # in samples\n",
    "                    \"h_fade_out\": np.int16(deconv_win_out_len),  # in samples\n",
    "                },  # fmt: on\n",
    "            },\n",
    "            do_compression=True,\n",
    "        )\n",
    "        print(\"done.\")\n",
    "\n",
    "    time_end = timedelta(seconds=np.ceil(\n",
    "        (datetime.now() - time_start).seconds))\n",
    "    display(Markdown(\"<h2><center>Measurement completed after {}</center></h2>\".format(\n",
    "        utils.generate_time_estimation_string(time_end, is_prediction=False))))\n",
    "\n",
    "    print(f\"\\nReset VariSphear ... \", end=\"\")\n",
    "    vari.move_blocking(az=0)\n",
    "    print(\"done.\")\n",
    "\n",
    "except KeyboardInterrupt:\n",
    "    print(\"Interrupted by user.\", file=sys.stderr)\n"
   ]
  },
  {
   "cell_type": "code",
   "execution_count": null,
   "outputs": [],
   "source": [],
   "metadata": {
    "collapsed": false,
    "pycharm": {
     "name": "#%%\n"
    }
   }
  }
 ],
 "metadata": {
  "kernelspec": {
   "display_name": "Python 3",
   "language": "python",
   "name": "python3"
  },
  "language_info": {
   "codemirror_mode": {
    "name": "ipython",
    "version": 3
   },
   "file_extension": ".py",
   "mimetype": "text/x-python",
   "name": "python",
   "nbconvert_exporter": "python",
   "pygments_lexer": "ipython3",
   "version": "3.8.8"
  },
  "toc": {
   "base_numbering": 1,
   "nav_menu": {},
   "number_sections": true,
   "sideBar": true,
   "skip_h1_title": true,
   "title_cell": "Table of Contents",
   "title_sidebar": "Contents",
   "toc_cell": false,
   "toc_position": {},
   "toc_section_display": true,
   "toc_window_display": true
  },
  "varInspector": {
   "cols": {
    "lenName": 16,
    "lenType": 16,
    "lenVar": 40
   },
   "kernels_config": {
    "python": {
     "delete_cmd_postfix": "",
     "delete_cmd_prefix": "del ",
     "library": "var_list.py",
     "varRefreshCmd": "print(var_dic_list())"
    },
    "r": {
     "delete_cmd_postfix": ") ",
     "delete_cmd_prefix": "rm(",
     "library": "var_list.r",
     "varRefreshCmd": "cat(var_dic_list()) "
    }
   },
   "types_to_exclude": [
    "module",
    "function",
    "builtin_function_or_method",
    "instance",
    "_Feature"
   ],
   "window_display": false
  }
 },
 "nbformat": 4,
 "nbformat_minor": 2
}