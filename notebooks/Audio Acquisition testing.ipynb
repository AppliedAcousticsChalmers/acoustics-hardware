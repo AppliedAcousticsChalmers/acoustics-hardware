{
 "cells": [
  {
   "cell_type": "markdown",
   "metadata": {
    "collapsed": true
   },
   "source": [
    "# Audio Acquisition Test\n",
    "A short example on how to use the audio acqusition tools.\n",
    "The first cell loads the required packages, the second cell controlls the logging outputs."
   ]
  },
  {
   "cell_type": "code",
   "execution_count": 1,
   "metadata": {
    "collapsed": true
   },
   "outputs": [],
   "source": [
    "import numpy as np\n",
    "from numpy.fft import fft, fftfreq\n",
    "import matplotlib.pyplot as plt\n",
    "from time import sleep\n",
    "import scipy.signal as signal\n",
    "from queue import Queue\n",
    "import logging\n",
    "\n",
    "import sys\n",
    "sys.path.insert(0,'..')\n",
    "\n",
    "import audio_acquisition.handlers\n",
    "import audio_acquisition.ni\n",
    "import audio_acquisition.triggers\n",
    "import audio_acquisition.utils"
   ]
  },
  {
   "cell_type": "code",
   "execution_count": 2,
   "metadata": {
    "collapsed": true
   },
   "outputs": [],
   "source": [
    "audio_acquisition.handlers.logger.setLevel(logging.INFO)\n",
    "audio_acquisition.triggers.logger.setLevel(logging.INFO)\n",
    "audio_acquisition.logger.addHandler(logging.StreamHandler(sys.stdout))"
   ]
  },
  {
   "cell_type": "markdown",
   "metadata": {},
   "source": [
    "## Initialization\n",
    "This cell has to be run once for each measurement. In the current implementation it is not possible to reuse a setup.\n",
    "This is because threads cannot be restarted once finished. If it is necessary for a system to be started and stopped repeatedly it is better to use some kind of intelligent triggering system to pause the acquisition."
   ]
  },
  {
   "cell_type": "code",
   "execution_count": 3,
   "metadata": {
    "collapsed": true
   },
   "outputs": [],
   "source": [
    "device = audio_acquisition.ni.NIDevice()\n",
    "device.add_input(0)\n",
    "device.blocksize = 10000\n",
    "handler = audio_acquisition.handlers.DeviceHandler(device)\n",
    "trigger = audio_acquisition.triggers.RMSTrigger(level=1, channel=0, fs=device.fs, \n",
    "                                                action=handler.trigger_handler.trigger.set)\n",
    "handler.trigger_handler.triggers.append(trigger)\n",
    "# handler.trigger_handler.trigger.set()\n",
    "Q = Queue()\n",
    "handler.queue_handler.queues.append(Q)"
   ]
  },
  {
   "cell_type": "markdown",
   "metadata": {},
   "source": [
    "## Running\n",
    "In order to start the system, execute `handler.start()`. use triggers to control when the actual measurement starts. Execute `handler.stop()` to finalize the measurement and let all threads finish."
   ]
  }
 ],
 "metadata": {
  "kernelspec": {
   "display_name": "Python 3",
   "language": "python",
   "name": "python3"
  },
  "language_info": {
   "codemirror_mode": {
    "name": "ipython",
    "version": 3
   },
   "file_extension": ".py",
   "mimetype": "text/x-python",
   "name": "python",
   "nbconvert_exporter": "python",
   "pygments_lexer": "ipython3",
   "version": "3.6.1"
  }
 },
 "nbformat": 4,
 "nbformat_minor": 2
}
